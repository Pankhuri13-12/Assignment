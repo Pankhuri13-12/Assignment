{
 "cells": [
  {
   "cell_type": "code",
   "execution_count": 1,
   "id": "c4be4f8d-26e8-491f-87c5-8d34e7487bf3",
   "metadata": {},
   "outputs": [],
   "source": [
    "import pandas as pd\n",
    "import numpy as np\n",
    "import statistics as st\n",
    "from scipy import stats\n",
    "import matplotlib.pyplot as plt\n",
    "import seaborn as sns"
   ]
  },
  {
   "cell_type": "code",
   "execution_count": 6,
   "id": "11f72faa-e6ac-41b3-97e9-e625ff953b60",
   "metadata": {},
   "outputs": [],
   "source": [
    "set1=pd.read_excel('Assign2_set1.xlsx')"
   ]
  },
  {
   "cell_type": "code",
   "execution_count": 7,
   "id": "be7464b5-9b5b-431d-8a19-bfdf72f1cbb1",
   "metadata": {},
   "outputs": [
    {
     "data": {
      "text/html": [
       "<div>\n",
       "<style scoped>\n",
       "    .dataframe tbody tr th:only-of-type {\n",
       "        vertical-align: middle;\n",
       "    }\n",
       "\n",
       "    .dataframe tbody tr th {\n",
       "        vertical-align: top;\n",
       "    }\n",
       "\n",
       "    .dataframe thead th {\n",
       "        text-align: right;\n",
       "    }\n",
       "</style>\n",
       "<table border=\"1\" class=\"dataframe\">\n",
       "  <thead>\n",
       "    <tr style=\"text-align: right;\">\n",
       "      <th></th>\n",
       "      <th>Name of company</th>\n",
       "      <th>Measure X(%)</th>\n",
       "    </tr>\n",
       "  </thead>\n",
       "  <tbody>\n",
       "    <tr>\n",
       "      <th>0</th>\n",
       "      <td>Allied Signal</td>\n",
       "      <td>0.2423</td>\n",
       "    </tr>\n",
       "    <tr>\n",
       "      <th>1</th>\n",
       "      <td>Bankers Trust</td>\n",
       "      <td>0.2553</td>\n",
       "    </tr>\n",
       "    <tr>\n",
       "      <th>2</th>\n",
       "      <td>General Mills</td>\n",
       "      <td>0.2541</td>\n",
       "    </tr>\n",
       "    <tr>\n",
       "      <th>3</th>\n",
       "      <td>ITT Industries</td>\n",
       "      <td>0.2414</td>\n",
       "    </tr>\n",
       "    <tr>\n",
       "      <th>4</th>\n",
       "      <td>J.P.Morgan &amp; Co.</td>\n",
       "      <td>0.2962</td>\n",
       "    </tr>\n",
       "    <tr>\n",
       "      <th>5</th>\n",
       "      <td>Lehman Brothers</td>\n",
       "      <td>0.2825</td>\n",
       "    </tr>\n",
       "    <tr>\n",
       "      <th>6</th>\n",
       "      <td>Marriott</td>\n",
       "      <td>0.2581</td>\n",
       "    </tr>\n",
       "    <tr>\n",
       "      <th>7</th>\n",
       "      <td>MCI</td>\n",
       "      <td>0.2439</td>\n",
       "    </tr>\n",
       "    <tr>\n",
       "      <th>8</th>\n",
       "      <td>Merrill Lynch</td>\n",
       "      <td>0.4026</td>\n",
       "    </tr>\n",
       "    <tr>\n",
       "      <th>9</th>\n",
       "      <td>Microsoft</td>\n",
       "      <td>0.3295</td>\n",
       "    </tr>\n",
       "    <tr>\n",
       "      <th>10</th>\n",
       "      <td>Morgan Stanley</td>\n",
       "      <td>0.9136</td>\n",
       "    </tr>\n",
       "    <tr>\n",
       "      <th>11</th>\n",
       "      <td>Sun Microsystems</td>\n",
       "      <td>0.2599</td>\n",
       "    </tr>\n",
       "    <tr>\n",
       "      <th>12</th>\n",
       "      <td>Travelers</td>\n",
       "      <td>0.3942</td>\n",
       "    </tr>\n",
       "    <tr>\n",
       "      <th>13</th>\n",
       "      <td>US Airways</td>\n",
       "      <td>0.2671</td>\n",
       "    </tr>\n",
       "    <tr>\n",
       "      <th>14</th>\n",
       "      <td>Warner-Lambert</td>\n",
       "      <td>0.3500</td>\n",
       "    </tr>\n",
       "  </tbody>\n",
       "</table>\n",
       "</div>"
      ],
      "text/plain": [
       "     Name of company  Measure X(%)\n",
       "0      Allied Signal        0.2423\n",
       "1      Bankers Trust        0.2553\n",
       "2      General Mills        0.2541\n",
       "3     ITT Industries        0.2414\n",
       "4   J.P.Morgan & Co.        0.2962\n",
       "5    Lehman Brothers        0.2825\n",
       "6           Marriott        0.2581\n",
       "7                MCI        0.2439\n",
       "8      Merrill Lynch        0.4026\n",
       "9          Microsoft        0.3295\n",
       "10    Morgan Stanley        0.9136\n",
       "11  Sun Microsystems        0.2599\n",
       "12         Travelers        0.3942\n",
       "13        US Airways        0.2671\n",
       "14    Warner-Lambert        0.3500"
      ]
     },
     "execution_count": 7,
     "metadata": {},
     "output_type": "execute_result"
    }
   ],
   "source": [
    "set1"
   ]
  },
  {
   "cell_type": "code",
   "execution_count": 8,
   "id": "ef44eb1e-7aee-4c77-8927-60564a1169a8",
   "metadata": {},
   "outputs": [
    {
     "name": "stderr",
     "output_type": "stream",
     "text": [
      "C:\\Users\\Dell\\anaconda3\\Lib\\site-packages\\seaborn\\_oldcore.py:1119: FutureWarning: use_inf_as_na option is deprecated and will be removed in a future version. Convert inf values to NaN before operating instead.\n",
      "  with pd.option_context('mode.use_inf_as_na', True):\n"
     ]
    },
    {
     "data": {
      "text/plain": [
       "<Axes: xlabel='Measure X(%)', ylabel='Count'>"
      ]
     },
     "execution_count": 8,
     "metadata": {},
     "output_type": "execute_result"
    },
    {
     "data": {
      "image/png": "[encoded data removed]",
      "text/plain": [
       "<Figure size 640x480 with 1 Axes>"
      ]
     },
     "metadata": {},
     "output_type": "display_data"
    }
   ],
   "source": [
    "sns.histplot(set1[\"Measure X(%)\"],bins=10)"
   ]
  },
  {
   "cell_type": "code",
   "execution_count": 9,
   "id": "8a74c45c-2539-41ef-b74b-907fc04e55d0",
   "metadata": {},
   "outputs": [
    {
     "data": {
      "text/plain": [
       "{'whiskers': [<matplotlib.lines.Line2D at 0x1e5fcad4dd0>,\n",
       "  <matplotlib.lines.Line2D at 0x1e5fcaf1050>],\n",
       " 'caps': [<matplotlib.lines.Line2D at 0x1e5fcaf1a50>,\n",
       "  <matplotlib.lines.Line2D at 0x1e5fcac7410>],\n",
       " 'boxes': [<matplotlib.lines.Line2D at 0x1e5fcae7c90>],\n",
       " 'medians': [<matplotlib.lines.Line2D at 0x1e5fcac7790>],\n",
       " 'fliers': [<matplotlib.lines.Line2D at 0x1e5fbeec350>],\n",
       " 'means': []}"
      ]
     },
     "execution_count": 9,
     "metadata": {},
     "output_type": "execute_result"
    },
    {
     "data": {
      "image/png": "[encoded data removed]",
      "text/plain": [
       "<Figure size 640x480 with 1 Axes>"
      ]
     },
     "metadata": {},
     "output_type": "display_data"
    }
   ],
   "source": [
    "plt.boxplot(set1[\"Measure X(%)\"],vert=False)"
   ]
  },
  {
   "cell_type": "code",
   "execution_count": 11,
   "id": "83ba2fc3-fef9-40a2-b0ad-a5f1b807da17",
   "metadata": {},
   "outputs": [
    {
     "data": {
      "text/plain": [
       "0.3391714285714285"
      ]
     },
     "execution_count": 11,
     "metadata": {},
     "output_type": "execute_result"
    }
   ],
   "source": [
    "set1.iloc[1:,1].mean()"
   ]
  },
  {
   "cell_type": "code",
   "execution_count": 12,
   "id": "a25fda2d-8ac3-43a3-9025-5c6d8c58ed5f",
   "metadata": {},
   "outputs": [
    {
     "data": {
      "text/plain": [
       "0.1739245611379628"
      ]
     },
     "execution_count": 12,
     "metadata": {},
     "output_type": "execute_result"
    }
   ],
   "source": [
    "set1.iloc[1:,1].std()"
   ]
  },
  {
   "cell_type": "code",
   "execution_count": 13,
   "id": "c7012528-7691-40fa-8252-96b7356d974a",
   "metadata": {},
   "outputs": [
    {
     "data": {
      "text/plain": [
       "0.030249752967032965"
      ]
     },
     "execution_count": 13,
     "metadata": {},
     "output_type": "execute_result"
    }
   ],
   "source": [
    "set1.iloc[1:,1].var()"
   ]
  },
  {
   "cell_type": "code",
   "execution_count": 5,
   "id": "3a47792c-1016-45f6-b486-87d2d55885be",
   "metadata": {},
   "outputs": [
    {
     "data": {
      "text/plain": [
       "0.321639142070981"
      ]
     },
     "execution_count": 5,
     "metadata": {},
     "output_type": "execute_result"
    }
   ],
   "source": [
    "1-stats.t.cdf(0.4715,17)"
   ]
  },
  {
   "cell_type": "code",
   "execution_count": 7,
   "id": "47a395db-ce43-4c74-afc8-79eceae51319",
   "metadata": {},
   "outputs": [
    {
     "data": {
      "text/plain": [
       "2.1098155778331806"
      ]
     },
     "execution_count": 7,
     "metadata": {},
     "output_type": "execute_result"
    }
   ],
   "source": [
    "stats.t.ppf(0.975,17)"
   ]
  },
  {
   "cell_type": "code",
   "execution_count": 2,
   "id": "f3070be1-f832-4a9d-8a79-9cede1edd1d7",
   "metadata": {},
   "outputs": [
    {
     "data": {
      "text/plain": [
       "0.7340144709512995"
      ]
     },
     "execution_count": 2,
     "metadata": {},
     "output_type": "execute_result"
    }
   ],
   "source": [
    "stats.norm.cdf(0.625)"
   ]
  },
  {
   "cell_type": "code",
   "execution_count": 3,
   "id": "1b253dbe-c334-4390-9b5a-3027d430481e",
   "metadata": {},
   "outputs": [
    {
     "data": {
      "text/plain": [
       "0.26598552904870054"
      ]
     },
     "execution_count": 3,
     "metadata": {},
     "output_type": "execute_result"
    }
   ],
   "source": [
    "1-stats.norm.cdf(0.625)"
   ]
  },
  {
   "cell_type": "code",
   "execution_count": 6,
   "id": "5322db2f-3991-473b-b357-e03ee780ba8f",
   "metadata": {},
   "outputs": [
    {
     "data": {
      "text/plain": [
       "0.15865525393145707"
      ]
     },
     "execution_count": 6,
     "metadata": {},
     "output_type": "execute_result"
    }
   ],
   "source": [
    "1-stats.norm.cdf(1)"
   ]
  },
  {
   "cell_type": "code",
   "execution_count": 7,
   "id": "1733fccf-2e52-4774-a7bc-9fdff970f24b",
   "metadata": {},
   "outputs": [
    {
     "data": {
      "text/plain": [
       "0.09175913565028077"
      ]
     },
     "execution_count": 7,
     "metadata": {},
     "output_type": "execute_result"
    }
   ],
   "source": [
    "stats.norm.cdf(-1.33)"
   ]
  },
  {
   "cell_type": "code",
   "execution_count": 11,
   "id": "8fd38862-f2e9-45be-a879-ecb93912f095",
   "metadata": {},
   "outputs": [
    {
     "data": {
      "text/plain": [
       "-2.575829303548901"
      ]
     },
     "execution_count": 11,
     "metadata": {},
     "output_type": "execute_result"
    }
   ],
   "source": [
    "stats.norm.ppf(0.005)"
   ]
  },
  {
   "cell_type": "code",
   "execution_count": null,
   "id": "454cb2c2-c3ab-4d38-a649-5085c49eff45",
   "metadata": {},
   "outputs": [],
   "source": [
    "statistic , p_value = stats.ttest_ind(cutlets['Unit A'],cutlets['Unit B'], alternative = 'two-sided')\n",
    "print('p_value=',p_value)"
   ]
  }
 ],
 "metadata": {
  "kernelspec": {
   "display_name": "Python 3 (ipykernel)",
   "language": "python",
   "name": "python3"
  },
  "language_info": {
   "codemirror_mode": {
    "name": "ipython",
    "version": 3
   },
   "file_extension": ".py",
   "mimetype": "text/x-python",
   "name": "python",
   "nbconvert_exporter": "python",
   "pygments_lexer": "ipython3",
   "version": "3.11.5"
  }
 },
 "nbformat": 4,
 "nbformat_minor": 5
}
